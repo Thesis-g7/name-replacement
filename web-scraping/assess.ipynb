{
 "cells": [
  {
   "cell_type": "code",
   "execution_count": 1,
   "id": "f35e546c-7d6e-44a1-a794-c07e3e5c0556",
   "metadata": {},
   "outputs": [],
   "source": [
    "import whisper\n",
    "import os\n",
    "import random\n",
    "from jiwer import wer\n",
    "import numpy as np\n",
    "import pandas as pd"
   ]
  },
  {
   "cell_type": "code",
   "execution_count": 2,
   "id": "4387c6c6-a8d3-4c95-b4a7-4df0ccb86715",
   "metadata": {
    "tags": []
   },
   "outputs": [],
   "source": [
    "wer_list = []\n",
    "results = {\n",
    "    'path' : [],\n",
    "    'expected' : [],\n",
    "    'actual' : []\n",
    "}\n",
    "\n",
    "def analyze_all_mp3(folder):\n",
    "    model = whisper.load_model(\"base.en\")\n",
    "    if not os.path.exists(folder):\n",
    "        print(\"Folder does not exist.\")\n",
    "        return\n",
    "    for item in os.listdir('audio')[:7200]:\n",
    "        if '.mp3' in item:\n",
    "            name = item.split(\"_\")[0].strip('. ')\n",
    "            result = model.transcribe(f\"{folder}/{item}\")\n",
    "            result = result['text'].strip('. ')\n",
    "            results[\"path\"].append(item)\n",
    "            results[\"expected\"].append(name)\n",
    "            results[\"actual\"].append(result)\n",
    "            wer_result = wer(name, result)\n",
    "            wer_list.append(wer_result)\n",
    "            print(f\" Expected: {name}, Actual: {result}, Success: {result.lower() == name.lower()} WER {wer_result}\", end='\\r')"
   ]
  },
  {
   "cell_type": "code",
   "execution_count": 3,
   "id": "94cff0b2-b838-440f-a039-5f844723b60b",
   "metadata": {
    "tags": []
   },
   "outputs": [
    {
     "data": {
      "text/plain": [
       "31345"
      ]
     },
     "execution_count": 3,
     "metadata": {},
     "output_type": "execute_result"
    }
   ],
   "source": [
    "len(os.listdir('audio'))"
   ]
  },
  {
   "cell_type": "code",
   "execution_count": null,
   "id": "c68bdf6e-4386-4e89-8ac3-98a3f6a7475b",
   "metadata": {
    "tags": []
   },
   "outputs": [],
   "source": [
    "analyze_all_mp3('audio')"
   ]
  },
  {
   "cell_type": "code",
   "execution_count": 8,
   "id": "f42e7fb4-9cde-407a-b3b9-3b01735b5013",
   "metadata": {
    "tags": []
   },
   "outputs": [
    {
     "data": {
      "text/plain": [
       "array([ 0.,  1.,  2.,  3.,  4.,  5.,  6.,  7.,  8.,  9., 10., 11., 12.,\n",
       "       13., 14., 15., 16., 17., 18., 19., 20., 21., 22., 23., 25., 26.,\n",
       "       27., 28., 29., 30., 31., 33., 37., 40., 41., 46., 49., 51., 52.,\n",
       "       54., 57., 58., 62., 63., 64., 68., 73., 87., 91.])"
      ]
     },
     "execution_count": 8,
     "metadata": {},
     "output_type": "execute_result"
    }
   ],
   "source": [
    "np.unique(wer_list)"
   ]
  },
  {
   "cell_type": "code",
   "execution_count": 13,
   "id": "a097687e-d30d-4cd4-be04-3bdbcee5a0fe",
   "metadata": {
    "tags": []
   },
   "outputs": [],
   "source": [
    "df = pd.DataFrame(results)\n",
    "df[\"wer\"] = wer_list"
   ]
  },
  {
   "cell_type": "code",
   "execution_count": 22,
   "id": "8fe05782-668a-429e-8be3-fafd359a1809",
   "metadata": {},
   "outputs": [
    {
     "data": {
      "text/html": [
       "<div>\n",
       "<style scoped>\n",
       "    .dataframe tbody tr th:only-of-type {\n",
       "        vertical-align: middle;\n",
       "    }\n",
       "\n",
       "    .dataframe tbody tr th {\n",
       "        vertical-align: top;\n",
       "    }\n",
       "\n",
       "    .dataframe thead th {\n",
       "        text-align: right;\n",
       "    }\n",
       "</style>\n",
       "<table border=\"1\" class=\"dataframe\">\n",
       "  <thead>\n",
       "    <tr style=\"text-align: right;\">\n",
       "      <th></th>\n",
       "      <th>path</th>\n",
       "      <th>expected</th>\n",
       "      <th>actual</th>\n",
       "      <th>wer</th>\n",
       "    </tr>\n",
       "  </thead>\n",
       "  <tbody>\n",
       "    <tr>\n",
       "      <th>701</th>\n",
       "      <td>Irvin_1.mp3</td>\n",
       "      <td>Irvin</td>\n",
       "      <td>I've heard you say it when you would like to c...</td>\n",
       "      <td>51.0</td>\n",
       "    </tr>\n",
       "    <tr>\n",
       "      <th>761</th>\n",
       "      <td>Jehoiachin_2.mp3</td>\n",
       "      <td>Jehoiachin</td>\n",
       "      <td>Hi folks, I'm Julia certificates, and thank yo...</td>\n",
       "      <td>54.0</td>\n",
       "    </tr>\n",
       "    <tr>\n",
       "      <th>1162</th>\n",
       "      <td>Zsuzsanna_1.mp3</td>\n",
       "      <td>Zsuzsanna</td>\n",
       "      <td>ignore which one is not on the clients' side. ...</td>\n",
       "      <td>52.0</td>\n",
       "    </tr>\n",
       "    <tr>\n",
       "      <th>1298</th>\n",
       "      <td>Hildigardis_0.mp3</td>\n",
       "      <td>Hildigardis</td>\n",
       "      <td>Kyle de dramatically for a while here at Utah ...</td>\n",
       "      <td>68.0</td>\n",
       "    </tr>\n",
       "    <tr>\n",
       "      <th>1766</th>\n",
       "      <td>Savvas_2.mp3</td>\n",
       "      <td>Savvas</td>\n",
       "      <td>As always, it's day one a beautiful day The we...</td>\n",
       "      <td>58.0</td>\n",
       "    </tr>\n",
       "    <tr>\n",
       "      <th>1926</th>\n",
       "      <td>Sméagol_1.mp3</td>\n",
       "      <td>Sméagol</td>\n",
       "      <td>Amy faults.revecadines? . That cat fart there....</td>\n",
       "      <td>62.0</td>\n",
       "    </tr>\n",
       "    <tr>\n",
       "      <th>2063</th>\n",
       "      <td>Akeem_0.mp3</td>\n",
       "      <td>Akeem</td>\n",
       "      <td>A few can be examined by men. And. Her. For so...</td>\n",
       "      <td>54.0</td>\n",
       "    </tr>\n",
       "    <tr>\n",
       "      <th>2320</th>\n",
       "      <td>Mümin_1.mp3</td>\n",
       "      <td>Mümin</td>\n",
       "      <td>President preparation for first very under att...</td>\n",
       "      <td>57.0</td>\n",
       "    </tr>\n",
       "    <tr>\n",
       "      <th>3551</th>\n",
       "      <td>Regin_2.mp3</td>\n",
       "      <td>Regin</td>\n",
       "      <td>I'm not sure. I'm not sure. I'm not sure. I'm ...</td>\n",
       "      <td>87.0</td>\n",
       "    </tr>\n",
       "    <tr>\n",
       "      <th>3821</th>\n",
       "      <td>Machteld_3.mp3</td>\n",
       "      <td>Machteld</td>\n",
       "      <td>Markford. I'm going to go back to the next sli...</td>\n",
       "      <td>64.0</td>\n",
       "    </tr>\n",
       "    <tr>\n",
       "      <th>4307</th>\n",
       "      <td>Olufunke_5.mp3</td>\n",
       "      <td>Olufunke</td>\n",
       "      <td>Corpus Christ, I'm not sure.mid-evens. Don't m...</td>\n",
       "      <td>63.0</td>\n",
       "    </tr>\n",
       "    <tr>\n",
       "      <th>5114</th>\n",
       "      <td>Fotini_0.mp3</td>\n",
       "      <td>Fotini</td>\n",
       "      <td>footage of people exploring what they need. Ad...</td>\n",
       "      <td>63.0</td>\n",
       "    </tr>\n",
       "    <tr>\n",
       "      <th>5607</th>\n",
       "      <td>Frediano_0.mp3</td>\n",
       "      <td>Frediano</td>\n",
       "      <td>Thank you for having me up. It's been a long t...</td>\n",
       "      <td>73.0</td>\n",
       "    </tr>\n",
       "    <tr>\n",
       "      <th>5997</th>\n",
       "      <td>Bose_4.mp3</td>\n",
       "      <td>Bose</td>\n",
       "      <td>cream. And I'll get a rest already. Keep it go...</td>\n",
       "      <td>91.0</td>\n",
       "    </tr>\n",
       "    <tr>\n",
       "      <th>6738</th>\n",
       "      <td>Rodolfo_4.mp3</td>\n",
       "      <td>Rodolfo</td>\n",
       "      <td>Red currencies, it adds a lot to its Whisperin...</td>\n",
       "      <td>58.0</td>\n",
       "    </tr>\n",
       "  </tbody>\n",
       "</table>\n",
       "</div>"
      ],
      "text/plain": [
       "                   path     expected  \\\n",
       "701         Irvin_1.mp3        Irvin   \n",
       "761    Jehoiachin_2.mp3   Jehoiachin   \n",
       "1162    Zsuzsanna_1.mp3    Zsuzsanna   \n",
       "1298  Hildigardis_0.mp3  Hildigardis   \n",
       "1766       Savvas_2.mp3       Savvas   \n",
       "1926      Sméagol_1.mp3      Sméagol   \n",
       "2063        Akeem_0.mp3        Akeem   \n",
       "2320        Mümin_1.mp3        Mümin   \n",
       "3551        Regin_2.mp3        Regin   \n",
       "3821     Machteld_3.mp3     Machteld   \n",
       "4307     Olufunke_5.mp3     Olufunke   \n",
       "5114       Fotini_0.mp3       Fotini   \n",
       "5607     Frediano_0.mp3     Frediano   \n",
       "5997         Bose_4.mp3         Bose   \n",
       "6738      Rodolfo_4.mp3      Rodolfo   \n",
       "\n",
       "                                                 actual   wer  \n",
       "701   I've heard you say it when you would like to c...  51.0  \n",
       "761   Hi folks, I'm Julia certificates, and thank yo...  54.0  \n",
       "1162  ignore which one is not on the clients' side. ...  52.0  \n",
       "1298  Kyle de dramatically for a while here at Utah ...  68.0  \n",
       "1766  As always, it's day one a beautiful day The we...  58.0  \n",
       "1926  Amy faults.revecadines? . That cat fart there....  62.0  \n",
       "2063  A few can be examined by men. And. Her. For so...  54.0  \n",
       "2320  President preparation for first very under att...  57.0  \n",
       "3551  I'm not sure. I'm not sure. I'm not sure. I'm ...  87.0  \n",
       "3821  Markford. I'm going to go back to the next sli...  64.0  \n",
       "4307  Corpus Christ, I'm not sure.mid-evens. Don't m...  63.0  \n",
       "5114  footage of people exploring what they need. Ad...  63.0  \n",
       "5607  Thank you for having me up. It's been a long t...  73.0  \n",
       "5997  cream. And I'll get a rest already. Keep it go...  91.0  \n",
       "6738  Red currencies, it adds a lot to its Whisperin...  58.0  "
      ]
     },
     "execution_count": 22,
     "metadata": {},
     "output_type": "execute_result"
    }
   ],
   "source": [
    "df[df['wer'] > 50]"
   ]
  },
  {
   "cell_type": "code",
   "execution_count": 24,
   "id": "215e603c-9f78-41b8-8640-25072e38b62b",
   "metadata": {},
   "outputs": [],
   "source": [
    "df.to_csv('results.csv')"
   ]
  }
 ],
 "metadata": {
  "kernelspec": {
   "display_name": "Python 3 (ipykernel)",
   "language": "python",
   "name": "python3"
  },
  "language_info": {
   "codemirror_mode": {
    "name": "ipython",
    "version": 3
   },
   "file_extension": ".py",
   "mimetype": "text/x-python",
   "name": "python",
   "nbconvert_exporter": "python",
   "pygments_lexer": "ipython3",
   "version": "3.10.12"
  }
 },
 "nbformat": 4,
 "nbformat_minor": 5
}
