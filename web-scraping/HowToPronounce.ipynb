{
 "cells": [
  {
   "cell_type": "code",
   "execution_count": null,
   "id": "f483a51d-33f9-47a6-afc2-e00167dba166",
   "metadata": {},
   "outputs": [],
   "source": [
    "import requests \n",
    "from bs4 import BeautifulSoup\n",
    "from string import digits\n",
    "import pandas as pd\n",
    "\n"
   ]
  },
  {
   "cell_type": "markdown",
   "id": "527c3dcb",
   "metadata": {},
   "source": [
    "#### Getting some names to search by"
   ]
  },
  {
   "cell_type": "code",
   "execution_count": null,
   "id": "d8c3dca5-d260-4d90-8c38-6a1d674834e2",
   "metadata": {
    "scrolled": true
   },
   "outputs": [],
   "source": [
    "names =[]\n",
    "for i in range(1, 89):\n",
    "    print(i,'\\r')\n",
    "    r = requests.get('https://www.behindthename.com/names/{}'.format(i))\n",
    "    r.soup = BeautifulSoup(r.content, 'html.parser')\n",
    "    a_names = r.soup.find_all('a', {\"class\": \"nll\"})\n",
    "    for a_name in a_names:\n",
    "        names.append(a_name.text)"
   ]
  },
  {
   "cell_type": "code",
   "execution_count": 28,
   "id": "3da08313-6ff4-4990-bc34-4569dc807456",
   "metadata": {},
   "outputs": [],
   "source": [
    "#remove numbers from all names\n",
    "import re \n",
    "for i in range(len(names)):\n",
    "    \n",
    "    if(bool(re.search(r'\\d', names[i]))):\n",
    "        names[i] = names[i][:-2]  "
   ]
  },
  {
   "cell_type": "code",
   "execution_count": 30,
   "id": "fc2c0f02-670f-48ba-a659-d484c6a30e48",
   "metadata": {},
   "outputs": [],
   "source": [
    "#remove duplicates\n",
    "names = list(set(names))"
   ]
  },
  {
   "cell_type": "code",
   "execution_count": 31,
   "id": "169a4929-e87b-419c-b7ef-5a81f79a1bc1",
   "metadata": {},
   "outputs": [
    {
     "data": {
      "text/plain": [
       "25595"
      ]
     },
     "execution_count": 31,
     "metadata": {},
     "output_type": "execute_result"
    }
   ],
   "source": [
    "len(names)"
   ]
  },
  {
   "cell_type": "code",
   "execution_count": 49,
   "id": "f35e546c-7d6e-44a1-a794-c07e3e5c0556",
   "metadata": {},
   "outputs": [],
   "source": [
    "df = pd.DataFrame(columns=['name', 'target'])"
   ]
  },
  {
   "cell_type": "markdown",
   "id": "39aa44f0",
   "metadata": {},
   "source": [
    "#### WebScraping"
   ]
  },
  {
   "cell_type": "code",
   "execution_count": null,
   "id": "92861b6b-6136-4bb6-bde0-20105066b12d",
   "metadata": {
    "scrolled": true
   },
   "outputs": [],
   "source": [
    "for i, name in enumerate(names):\n",
    "    print('[%d%%]\\r'%i, end=\"\")\n",
    "    r = requests.get('https://www.howtopronounce.com/{}'.format(name))\n",
    "    r.soup = BeautifulSoup(r.content, 'html.parser')\n",
    "    audios_divs = r.soup.find_all('div', {\"id\":\"searchAudio\"})\n",
    "    for audio_div in audios_divs:\n",
    "        try:\n",
    "            span = audio_div.find('span')\n",
    "            audio = span.find('audio')['src']\n",
    "            df.loc[len(df)] = [name, audio]\n",
    "        except:\n",
    "            print(\"error in {}\".format('https://www.howtopronounce.com/{}'.format(name)))"
   ]
  },
  {
   "cell_type": "code",
   "execution_count": 62,
   "id": "f8bf63e6-afe6-4ab6-bd79-221f3d0ca939",
   "metadata": {},
   "outputs": [
    {
     "data": {
      "text/html": [
       "<div>\n",
       "<style scoped>\n",
       "    .dataframe tbody tr th:only-of-type {\n",
       "        vertical-align: middle;\n",
       "    }\n",
       "\n",
       "    .dataframe tbody tr th {\n",
       "        vertical-align: top;\n",
       "    }\n",
       "\n",
       "    .dataframe thead th {\n",
       "        text-align: right;\n",
       "    }\n",
       "</style>\n",
       "<table border=\"1\" class=\"dataframe\">\n",
       "  <thead>\n",
       "    <tr style=\"text-align: right;\">\n",
       "      <th></th>\n",
       "      <th>name</th>\n",
       "      <th>target</th>\n",
       "    </tr>\n",
       "  </thead>\n",
       "  <tbody>\n",
       "    <tr>\n",
       "      <th>0</th>\n",
       "      <td>Abeni</td>\n",
       "      <td>https://en-audio.howtopronounce.com/1610188558...</td>\n",
       "    </tr>\n",
       "    <tr>\n",
       "      <th>1</th>\n",
       "      <td>Abeni</td>\n",
       "      <td>https://en-audio.howtopronounce.com/adac959fba...</td>\n",
       "    </tr>\n",
       "    <tr>\n",
       "      <th>2</th>\n",
       "      <td>Abeni</td>\n",
       "      <td>https://en-audio.howtopronounce.com/1703579693...</td>\n",
       "    </tr>\n",
       "    <tr>\n",
       "      <th>3</th>\n",
       "      <td>Lillian</td>\n",
       "      <td>https://en-audio.howtopronounce.com/1578318511...</td>\n",
       "    </tr>\n",
       "    <tr>\n",
       "      <th>4</th>\n",
       "      <td>Lillian</td>\n",
       "      <td>https://en-audio.howtopronounce.com/8264718b32...</td>\n",
       "    </tr>\n",
       "    <tr>\n",
       "      <th>...</th>\n",
       "      <td>...</td>\n",
       "      <td>...</td>\n",
       "    </tr>\n",
       "    <tr>\n",
       "      <th>72192</th>\n",
       "      <td>Read</td>\n",
       "      <td>https://en-audio.howtopronounce.com/1599035882...</td>\n",
       "    </tr>\n",
       "    <tr>\n",
       "      <th>72193</th>\n",
       "      <td>Read</td>\n",
       "      <td>https://en-audio.howtopronounce.com/9e3edfe69e...</td>\n",
       "    </tr>\n",
       "    <tr>\n",
       "      <th>72194</th>\n",
       "      <td>Read</td>\n",
       "      <td>https://en-audio.howtopronounce.com/1578487365...</td>\n",
       "    </tr>\n",
       "    <tr>\n",
       "      <th>72195</th>\n",
       "      <td>Read</td>\n",
       "      <td>https://en-audio.howtopronounce.com/1621660664...</td>\n",
       "    </tr>\n",
       "    <tr>\n",
       "      <th>72196</th>\n",
       "      <td>Read</td>\n",
       "      <td>https://en-audio.howtopronounce.com/1635415182...</td>\n",
       "    </tr>\n",
       "  </tbody>\n",
       "</table>\n",
       "<p>72197 rows × 2 columns</p>\n",
       "</div>"
      ],
      "text/plain": [
       "          name                                             target\n",
       "0        Abeni  https://en-audio.howtopronounce.com/1610188558...\n",
       "1        Abeni  https://en-audio.howtopronounce.com/adac959fba...\n",
       "2        Abeni  https://en-audio.howtopronounce.com/1703579693...\n",
       "3      Lillian  https://en-audio.howtopronounce.com/1578318511...\n",
       "4      Lillian  https://en-audio.howtopronounce.com/8264718b32...\n",
       "...        ...                                                ...\n",
       "72192     Read  https://en-audio.howtopronounce.com/1599035882...\n",
       "72193     Read  https://en-audio.howtopronounce.com/9e3edfe69e...\n",
       "72194     Read  https://en-audio.howtopronounce.com/1578487365...\n",
       "72195     Read  https://en-audio.howtopronounce.com/1621660664...\n",
       "72196     Read  https://en-audio.howtopronounce.com/1635415182...\n",
       "\n",
       "[72197 rows x 2 columns]"
      ]
     },
     "execution_count": 62,
     "metadata": {},
     "output_type": "execute_result"
    }
   ],
   "source": [
    "df"
   ]
  },
  {
   "cell_type": "code",
   "execution_count": 63,
   "id": "420d58eb-b703-4b8d-b43b-bd5db1363290",
   "metadata": {},
   "outputs": [],
   "source": [
    "df.to_csv(\"names_data.csv\")"
   ]
  }
 ],
 "metadata": {
  "kernelspec": {
   "display_name": "Python 3 (ipykernel)",
   "language": "python",
   "name": "python3"
  },
  "language_info": {
   "codemirror_mode": {
    "name": "ipython",
    "version": 3
   },
   "file_extension": ".py",
   "mimetype": "text/x-python",
   "name": "python",
   "nbconvert_exporter": "python",
   "pygments_lexer": "ipython3",
   "version": "3.10.12"
  }
 },
 "nbformat": 4,
 "nbformat_minor": 5
}
